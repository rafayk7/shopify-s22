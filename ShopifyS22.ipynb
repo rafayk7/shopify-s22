{
  "nbformat": 4,
  "nbformat_minor": 0,
  "metadata": {
    "colab": {
      "name": "ShopifyS22",
      "provenance": []
    },
    "kernelspec": {
      "name": "python3",
      "display_name": "Python 3"
    },
    "language_info": {
      "name": "python"
    }
  },
  "cells": [
    {
      "cell_type": "markdown",
      "source": [
        "# Rafay's Shopify Summer 2022 Challenge Submission\n",
        "\n",
        "## Question 1a/b\n",
        "* My answer here depends on the context of the final metric and requires some business knowledge. Instead, I present a few possible solutions that I would then work with the Business team to refine.\n",
        "* First, I would argue that looking at the value of the entire order may be flawed (again, depending on the context) as there may be many pairs of shoes in one order. Thus, a cost per item may be better to look at.\n",
        "* Second, Store 78 has a very high cost per item, and potentially sells luxury shoes. We may want to exclude this store in our calculation as it is not representative of the rest of the dataset.\n",
        "* Third, Store 42 seems to sell around 2000 pairs of shoes in one order, and may be a shoe wholesaler. Again, we may want to exclude wholesalers as they are not representative of non-wholesale clients.\n",
        "* Lastly, if we wish to look at the entire order value and not exclude any stores, then using the Median or quartiles may be a better indication of how much the average order is for. Medians and percentiles are usually very informative to look at data with skews or outliers, as is the case here.\n",
        "\n",
        "## Question 1c\n",
        "* Cost Per Item (This is just Order Amount / Total Items in Order)\n",
        " * Including Store 78: $387.74\n",
        "\n",
        " * Excluding Store 78 (Since this may be a luxury shoe store): $152.48\n",
        "\n",
        "* Non-wholesaler (i.e. excluding Store 42) AOV\n",
        " * $754.79\n",
        "\n",
        "* Median and Percentiles of AOV:\n",
        " * 25th Percentile : $163\n",
        "\n",
        " * 50th Percentile : $284\n",
        "\n",
        " * 75th Percentile : $390\n",
        "\n",
        " * 90th Percentile: $531\n",
        "\n",
        "### Note: My analysis for Q1 is below the answers to Q2.\n",
        "\n",
        " ## Question 2\n",
        "\n",
        "### How many orders were shipped by Speedy Express in total?\n",
        "\n",
        "**Answer: 54**. Note that Speedy Express is ShipperID=1.\n",
        "\n",
        "```\n",
        "SELECT COUNT(*) FROM Orders WHERE ShipperID=1\n",
        "```\n",
        "\n",
        "## What is the last name of the employee with the most orders?\n",
        "\n",
        "**Answer: Peacock**.\n",
        "\n",
        "```\n",
        "SELECT COUNT(*), Employees.LastName FROM \n",
        "Orders, Employees\n",
        "ON Orders.EmployeeID=Employees.EmployeeID\n",
        "GROUP BY Employees.EmployeeID\n",
        "ORDER BY COUNT(*) DESC\n",
        "LIMIT 1\n",
        "```\n",
        "\n",
        "### What product was ordered the most by customers in Germany?\n",
        "\n",
        "**Answer: As measured by order frequency, Gorgonzola Telino.**\n",
        "\n",
        "**Answer: As measured by total order quantity, Boston Crab Meat.**\n",
        "\n",
        "```\n",
        "WITH GermanCustomers AS (\n",
        "\tSELECT CustomerID\n",
        "    FROM Customers\n",
        "    WHERE Country=\"Germany\"\n",
        "),\n",
        "GermanOrders AS (\n",
        "\tSELECT ProductID, Quantity, Orders.OrderID\n",
        "    FROM GermanCustomers\n",
        "    LEFT JOIN Orders\n",
        "    ON GermanCustomers.CustomerID=Orders.CustomerID\n",
        "    LEFT JOIN OrderDetails\n",
        "    ON Orders.OrderID=OrderDetails.OrderID\n",
        ")\n",
        "SELECT \n",
        "  ProductName,\n",
        "  SUM(Quantity),\n",
        "  COUNT(*)\n",
        "FROM GermanOrders\n",
        "LEFT JOIN Products\n",
        "ON GermanOrders.ProductID=Products.ProductID\n",
        "WHERE GermanOrders.OrderID IS NOT NULL\n",
        "GROUP BY ProductName\n",
        "ORDER BY Sum(Quantity) DESC\n",
        "LIMIT 2\n",
        "```\n",
        "\n",
        "# Analysis for Question 1"
      ],
      "metadata": {
        "id": "dYO-jg38uAgw"
      }
    },
    {
      "cell_type": "code",
      "execution_count": 1,
      "metadata": {
        "id": "MnwnbOYlm9lD"
      },
      "outputs": [],
      "source": [
        "from google.colab import auth\n",
        "auth.authenticate_user()\n",
        "import gspread\n",
        "from oauth2client.client import GoogleCredentials\n",
        "import pandas as pd\n",
        "\n",
        "# setup\n",
        "gc = gspread.authorize(GoogleCredentials.get_application_default())\n",
        "\n",
        "# read data and put it in a dataframe\n",
        "gsheets = gc.open_by_url('https://docs.google.com/spreadsheets/d/16i38oonuX1y1g7C_UAmiK9GkY7cS-64DfiDMNiR41LM/edit#gid=0')"
      ]
    },
    {
      "cell_type": "code",
      "source": [
        "# Load Data\n",
        "sheets = gsheets.worksheet('Sheet1').get_all_values()\n",
        "df = pd.DataFrame(sheets[1:], columns=sheets[0])\n",
        "\n",
        "# Basic typing, we define our numeric, datetime and string columns and cast object type (default) to required types\n",
        "numeric_cols = ['order_id', 'shop_id', 'user_id', 'order_amount', 'total_items']\n",
        "time_cols = ['created_at']\n",
        "str_cols = ['payment_method']\n",
        "\n",
        "# Cast\n",
        "df[numeric_cols] = df[numeric_cols].apply(pd.to_numeric)\n",
        "df[time_cols] = df[time_cols].apply(pd.to_datetime)\n",
        "df[str_cols] = df[str_cols].astype(str)\n",
        "\n",
        "# Confirm casting worked\n",
        "df.dtypes"
      ],
      "metadata": {
        "colab": {
          "base_uri": "https://localhost:8080/",
          "height": 0
        },
        "id": "LswpkqM9uJaw",
        "outputId": "7387637c-bd4f-46a8-bbb9-e1119ffcb852"
      },
      "execution_count": 2,
      "outputs": [
        {
          "output_type": "execute_result",
          "data": {
            "text/plain": [
              "order_id                   int64\n",
              "shop_id                    int64\n",
              "user_id                    int64\n",
              "order_amount               int64\n",
              "total_items                int64\n",
              "payment_method            object\n",
              "created_at        datetime64[ns]\n",
              "dtype: object"
            ]
          },
          "metadata": {},
          "execution_count": 2
        }
      ]
    },
    {
      "cell_type": "markdown",
      "source": [
        "Now that we have our data loaded, we can start getting a basic idea of what we have here. Note that I have inspected the the CSV manually, so I kind of know what to expect going into this."
      ],
      "metadata": {
        "id": "UDysuBnUF2D9"
      }
    },
    {
      "cell_type": "code",
      "source": [
        "# Basic descriptive stats\n",
        "print(df.describe())\n",
        "\n",
        "# Histogram of Order Amount, the column of interest\n",
        "plt = df.order_amount.hist()\n",
        "plt.set_title('Figure 1 : Histogram of Order Amount')\n",
        "plt.set_xlabel('Order Amount Bucket')\n",
        "plt.set_ylabel('Frequency of Orders')"
      ],
      "metadata": {
        "colab": {
          "base_uri": "https://localhost:8080/",
          "height": 469
        },
        "id": "qkeF0TlOwCp5",
        "outputId": "513d8745-6ec8-416a-810d-a316a7b1f556"
      },
      "execution_count": 10,
      "outputs": [
        {
          "output_type": "stream",
          "name": "stdout",
          "text": [
            "          order_id      shop_id      user_id   order_amount  total_items\n",
            "count  5000.000000  5000.000000  5000.000000    5000.000000   5000.00000\n",
            "mean   2500.500000    50.078800   849.092400    3145.128000      8.78720\n",
            "std    1443.520003    29.006118    87.798982   41282.539349    116.32032\n",
            "min       1.000000     1.000000   607.000000      90.000000      1.00000\n",
            "25%    1250.750000    24.000000   775.000000     163.000000      1.00000\n",
            "50%    2500.500000    50.000000   849.000000     284.000000      2.00000\n",
            "75%    3750.250000    75.000000   925.000000     390.000000      3.00000\n",
            "max    5000.000000   100.000000   999.000000  704000.000000   2000.00000\n"
          ]
        },
        {
          "output_type": "execute_result",
          "data": {
            "text/plain": [
              "Text(0, 0.5, 'Frequency of Orders')"
            ]
          },
          "metadata": {},
          "execution_count": 10
        },
        {
          "output_type": "display_data",
          "data": {
            "image/png": "[encoded data removed]",
            "text/plain": [
              "<Figure size 432x288 with 1 Axes>"
            ]
          },
          "metadata": {
            "needs_background": "light"
          }
        }
      ]
    },
    {
      "cell_type": "markdown",
      "source": [
        "By looking at the mean of order_amount, we see that the AOV of $3145.13 is confirmed. \n",
        "\n",
        "### Interesting Observations\n",
        "\n",
        "*   We see that order_amount has a max of $704,000, which is definitely pushing our average up. There are only a few orders like this, majority of orders (>4900) have a much smaller order amount.\n",
        "*   Orders can sometimes also have 2000 items (total_items), which can be driving up the total order value. This can be wholesale stores.\n",
        "\n",
        "### Next Steps\n",
        "* In some contexts, it may make sense to look at the average item cost instead of the average order cost. So, I will create this metric and investigate that.\n",
        "* In other cases, we may still want to see the entire order cost. In this case, I propose using the Median or the 25th, 75th percentile order cost instead of the average. This is supported by the fact that most orders have a small order amount. So, I will investigate this as well.\n",
        "* Investigate stores that have a high order quantity."
      ],
      "metadata": {
        "id": "td_bNa-KGMI3"
      }
    },
    {
      "cell_type": "markdown",
      "source": [
        "# Cost Per Item Analysis"
      ],
      "metadata": {
        "id": "BC3LiSDyK_Yc"
      }
    },
    {
      "cell_type": "code",
      "source": [
        "# Calculate Average Item Cost and Visualize Result\n",
        "\n",
        "df['cost_per_item'] = df.apply(lambda x: x.order_amount / x.total_items, axis=1)\n",
        "print(df['cost_per_item'].mean())\n",
        "plt = df.cost_per_item.hist()\n",
        "\n",
        "plt.set_title('Figure 2 : Histogram of Item Value')\n",
        "plt.set_xlabel('Item Value Bucket')\n",
        "plt.set_ylabel('Frequency of Orders')"
      ],
      "metadata": {
        "colab": {
          "base_uri": "https://localhost:8080/",
          "height": 330
        },
        "id": "qGqr4URQwJOd",
        "outputId": "398dcced-3705-4a7b-f9a9-5aadfa682b00"
      },
      "execution_count": 11,
      "outputs": [
        {
          "output_type": "stream",
          "name": "stdout",
          "text": [
            "387.7428\n"
          ]
        },
        {
          "output_type": "execute_result",
          "data": {
            "text/plain": [
              "Text(0, 0.5, 'Frequency of Orders')"
            ]
          },
          "metadata": {},
          "execution_count": 11
        },
        {
          "output_type": "display_data",
          "data": {
            "image/png": "[encoded data removed]",
            "text/plain": [
              "<Figure size 432x288 with 1 Axes>"
            ]
          },
          "metadata": {
            "needs_background": "light"
          }
        }
      ]
    },
    {
      "cell_type": "markdown",
      "source": [
        "* There is again an outlier with an item quantity of $25,000. This is incredibly high, and should be investigated further.\n",
        "\n",
        "* Since each shop sells a different kind of shoe, it is possible that there is an extremely high-valued shoe, so I'll see what stores are selling these high value shoes."
      ],
      "metadata": {
        "id": "H1w0ly2AKvHE"
      }
    },
    {
      "cell_type": "code",
      "source": [
        "high_cost_per_item_df = df.loc[df.cost_per_item > 5000]\n",
        "\n",
        "shop_id_high_cost_per_item = high_cost_per_item_df.shop_id.unique().tolist()\n",
        "user_id_high_cost_per_item = high_cost_per_item_df.user_id.unique().tolist()\n",
        "\n",
        "shop_id_all = df.shop_id.unique().tolist()\n",
        "user_id_all = df.user_id.unique().tolist()\n",
        "print(\"There are {} unique shop IDs with high cost per item, {} unique users with high cost per item. This is shop {}.\".format(len(shop_id_high_cost_per_item), len(user_id_high_cost_per_item), shop_id_high_cost_per_item[0]))\n",
        "print(\"There are {} unique shop IDs overall, {} unique users overall\".format(len(shop_id_all), len(user_id_all)))\n",
        "print(\"\\n\")\n",
        "low_cost_per_item_df = df.loc[df.shop_id != 78]\n",
        "print(\"Cost Per Item excluding Store 78: ${}\".format(round(low_cost_per_item_df['cost_per_item'].mean(), 2)))\n",
        "print(\"Cost Per Item including all stores ${}\".format(round(df['cost_per_item'].mean(), 2)))\n"
      ],
      "metadata": {
        "colab": {
          "base_uri": "https://localhost:8080/",
          "height": 0
        },
        "id": "EUc_mIDYwybW",
        "outputId": "a55c70d6-ba7e-49a7-e6e4-092065fd140f"
      },
      "execution_count": 30,
      "outputs": [
        {
          "output_type": "stream",
          "name": "stdout",
          "text": [
            "There are 1 unique shop IDs with high cost per item, 45 unique users with high cost per item. This is shop 78.\n",
            "There are 100 unique shop IDs overall, 301 unique users overall\n",
            "\n",
            "\n",
            "Cost Per Item excluding Store 78: $152.48\n",
            "Cost Per Item including all stores $387.74\n"
          ]
        }
      ]
    },
    {
      "cell_type": "markdown",
      "source": [
        "# Wholesale Stores?"
      ],
      "metadata": {
        "id": "F6Y6xNg5PPQv"
      }
    },
    {
      "cell_type": "code",
      "source": [
        "plt = df.total_items.hist()\n",
        "plt.set_title('Figure 3 : Histogram of Order Quantity')\n",
        "plt.set_xlabel('Order Quantity Bucket')\n",
        "plt.set_ylabel('Frequency of Orders')\n",
        "\n",
        "high_ord_qty_df = df.loc[df.total_items > 250]\n",
        "\n",
        "shop_id_high_ord_qty_item = high_ord_qty_df.shop_id.unique().tolist()\n",
        "user_id_high_ord_qty_item = high_ord_qty_df.user_id.unique().tolist()\n",
        "\n",
        "print(\"There are {} unique shop IDs with high Average Order Quantity, {} unique users with high Average Order Quantity. This is shop {}.\".format(len(shop_id_high_ord_qty_item), len(user_id_high_ord_qty_item), shop_id_high_ord_qty_item[0]))\n",
        "print(\"There are {} unique shop IDs overall, {} unique users overall\".format(len(shop_id_all), len(user_id_all)))\n",
        "print(\"\\n\")\n",
        "low_ord_qty_df = df.loc[df.shop_id != 42]\n",
        "print(\"Average Order Amount excluding Store 42: ${}\".format(round(low_ord_qty_df['order_amount'].mean(), 2)))\n",
        "print(\"Average Order Amount including all stores ${}\".format(round(df['order_amount'].mean(), 2)))"
      ],
      "metadata": {
        "colab": {
          "base_uri": "https://localhost:8080/",
          "height": 399
        },
        "id": "xJS81u59PN6D",
        "outputId": "7da4e09c-a0e7-44ec-9339-6e5201f0093c"
      },
      "execution_count": 29,
      "outputs": [
        {
          "output_type": "stream",
          "name": "stdout",
          "text": [
            "There are 1 unique shop IDs with high Average Order Quantity, 1 unique users with high Average Order Quantity. This is shop 42.\n",
            "There are 100 unique shop IDs overall, 301 unique users overall\n",
            "\n",
            "\n",
            "Average Order Amount excluding Store 42: $754.79\n",
            "Average Order Amount including all stores $3145.13\n"
          ]
        },
        {
          "output_type": "display_data",
          "data": {
            "image/png": "[encoded data removed]",
            "text/plain": [
              "<Figure size 432x288 with 1 Axes>"
            ]
          },
          "metadata": {
            "needs_background": "light"
          }
        }
      ]
    },
    {
      "cell_type": "markdown",
      "source": [
        "* There seems to be a store that sells wholesale to one client, as their average order quantity is 2000 pairs.\n",
        "* We could separate the final metric into a wholesale and non-wholesale metric\n",
        "\n",
        "The AOV excluding Store 42 is $754.79."
      ],
      "metadata": {
        "id": "TsMPSmcLrbyi"
      }
    },
    {
      "cell_type": "markdown",
      "source": [
        "# Median / Percentiles\n",
        "\n",
        "If we want to include all stores and still interested in order value (not item value), then the best solution may be to use medians or some form of percentiles.\n",
        "\n"
      ],
      "metadata": {
        "id": "1qIek5rztKGk"
      }
    },
    {
      "cell_type": "code",
      "source": [
        "print(\"25th Percentile Order Amount: ${}\".format(df.order_amount.quantile(0.25)))\n",
        "print(\"50th Percentile Order Amount: ${}\".format(df.order_amount.quantile(0.50)))\n",
        "print(\"75th Percentile Order Amount: ${}\".format(df.order_amount.quantile(0.75)))\n",
        "print(\"90th Percentile Order Amount: ${}\".format(df.order_amount.quantile(0.90)))"
      ],
      "metadata": {
        "colab": {
          "base_uri": "https://localhost:8080/",
          "height": 0
        },
        "id": "a6jqCqViv6tw",
        "outputId": "f1965735-9da1-4e1a-e286-d650340e76ec"
      },
      "execution_count": 47,
      "outputs": [
        {
          "output_type": "stream",
          "name": "stdout",
          "text": [
            "25th Percentile Order Amount: $163.0\n",
            "50th Percentile Order Amount: $284.0\n",
            "75th Percentile Order Amount: $390.0\n",
            "90th Percentile Order Amount: $531.0\n"
          ]
        }
      ]
    }
  ]
}